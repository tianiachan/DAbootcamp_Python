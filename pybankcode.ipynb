{
 "cells": [
  {
   "cell_type": "code",
   "execution_count": 67,
   "metadata": {},
   "outputs": [],
   "source": [
    "#pybank\n",
    "\n",
    "#dependencies\n",
    "import csv\n",
    "import os\n",
    "\n",
    "#file paths\n",
    "budgetCSV = os.path.join(\"..\",\"Resources\",\"budget_data.csv\")\n",
    "\n",
    "#variables\n",
    "totalMonth = 0\n",
    "monthList = []\n",
    "netChange = []\n",
    "greatestIncrease = 0\n",
    "greatestIncreaseMonth = \"\"\n",
    "greatestDecrease = 0\n",
    "greatestDecreaseMonth = \"\"\n",
    "totalNet = 0\n",
    "prev_net = 0\n",
    "netC = 0\n"
   ]
  },
  {
   "cell_type": "code",
   "execution_count": 68,
   "metadata": {
    "scrolled": false
   },
   "outputs": [
    {
     "name": "stdout",
     "output_type": "stream",
     "text": [
      "Total Months:86\n",
      "Total Profit/Losses: $38382578\n",
      "Net Change:7803.48\n",
      "Greatest Increase in Profits: Feb-2012 ($1926159)\n",
      "Greatest Decrease in Profits: Sep-2013 ($-2196167)\n"
     ]
    }
   ],
   "source": [
    "# Read the csv and convert it into a list of dictionaries\n",
    "with open(budgetCSV) as financialData:\n",
    "    deposits = csv.reader(financialData)\n",
    "\n",
    "    # Read the header deposit\n",
    "    header = next(deposits)\n",
    "    \n",
    "    #for loop to calculate total month and net total\n",
    "    for deposit in deposits:\n",
    "        #counter for totalMonths\n",
    "        totalMonth = totalMonth + 1\n",
    "        netChanges = int(deposit[1]) - prev_net\n",
    "        prev_net = int(deposit[1])\n",
    "\n",
    "        #calculate total net profit/loss\n",
    "        totalNet = totalNet + int(deposit[1])\n",
    "        #add to netchange list\n",
    "        netChange.append(netChanges)\n",
    "        #add to month list\n",
    "        monthList.append(str(deposit[0]))\n",
    "\n",
    "#print total months\n",
    "print(\"Total Months:\" + str(totalMonth))\n",
    "#print total net profit/loss\n",
    "print(\"Total Profit/Losses: $\" + str(totalNet))\n",
    "\n",
    "\n",
    "#find net change and format\n",
    "netC = sum(netChange)/len(netChange)\n",
    "netC = round(netC,2)\n",
    "print(\"Net Change:\" + str(netC))\n",
    "\n",
    "#remove first value because unnecessary for net change list\n",
    "netChange.pop(0)\n",
    "#calculate increase and decrease\n",
    "greatestIncrease = max(netChange)\n",
    "greatestDecrease = min(netChange)\n",
    "greatestIncreaseMonth = monthList[netChange.index(greatestIncrease) + 1]\n",
    "greatestDecreaseMonth = monthList[netChange.index(greatestDecrease) + 1]\n",
    "\n",
    "print(\"Greatest Increase in Profits: \" + str(greatestIncreaseMonth) + \" ($\" + str(greatestIncrease) + \")\")\n",
    "print(\"Greatest Decrease in Profits: \" + str(greatestDecreaseMonth) + \" ($\" + str(greatestDecrease) + \")\")\n"
   ]
  },
  {
   "cell_type": "code",
   "execution_count": 69,
   "metadata": {},
   "outputs": [],
   "source": [
    "# Open the file using \"write\" mode. write in and close\n",
    "writeFile = open(\"budgetresults.txt\", \"w\")\n",
    "writeFile.write (\"Total Months:\" + str(totalMonth) + \"\\n\")\n",
    "writeFile.write (\"Net Change:\" + str(netC) + \"\\n\")\n",
    "writeFile.write (\"Greatest Increase in Profits: \" + str(greatestIncreaseMonth) + \" ($\" + str(greatestIncrease) + \")\" + \"\\n\")\n",
    "writeFile.write (\"Greatest Decrease in Profits: \" + str(greatestDecreaseMonth) + \" ($\" + str(greatestDecrease) + \")\" + \"\\n\")\n",
    "writeFile.write (\"Total Profit/Losses: $\" + str(totalNet))\n",
    "writeFile.close()"
   ]
  },
  {
   "cell_type": "code",
   "execution_count": null,
   "metadata": {},
   "outputs": [],
   "source": []
  }
 ],
 "metadata": {
  "kernelspec": {
   "display_name": "Python 3",
   "language": "python",
   "name": "python3"
  }
 },
 "nbformat": 4,
 "nbformat_minor": 2
}
